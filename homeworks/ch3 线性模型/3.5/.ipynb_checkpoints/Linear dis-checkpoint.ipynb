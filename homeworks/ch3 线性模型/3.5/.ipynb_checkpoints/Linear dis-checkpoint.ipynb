{
 "cells": [
  {
   "cell_type": "code",
   "execution_count": 1,
   "metadata": {},
   "outputs": [],
   "source": [
    "from sklearn import model_selection\n",
    "import numpy as np\n",
    "import pandas as pd\n",
    "import matplotlib.pyplot as plt"
   ]
  },
  {
   "cell_type": "code",
   "execution_count": 2,
   "metadata": {},
   "outputs": [],
   "source": [
    "def ReadExcel(pathname):\n",
    "    df=pd.read_excel(pathname,sheet_name=\"Sheet1\")\n",
    "    arr=np.array(df)\n",
    "    rows=np.shape(arr)[0]\n",
    "    for i in range(rows):\n",
    "        if arr[i][3]=='是':\n",
    "            arr[i][3]=1\n",
    "        else:\n",
    "            arr[i][3]=0\n",
    "            \n",
    "    return arr"
   ]
  },
  {
   "cell_type": "code",
   "execution_count": 3,
   "metadata": {},
   "outputs": [],
   "source": [
    "def plot(X,y,w=0,axis=0):\n",
    "    dataset=np.c_[X,y]\n",
    "    f1 = plt.figure(1)\n",
    "    plt.title('watermelon_3a')\n",
    "    plt.xlabel('density')\n",
    "    plt.ylabel('ratio_sugar')\n",
    "    \n",
    "    y=dataset[:,-1]\n",
    "    plt.scatter(dataset[y==1,0], dataset[y==1,1], marker='o', color='g', s=100, label='good')\n",
    "    plt.scatter(dataset[y==0,0], dataset[y==0,1], marker='o', color='k', s=100, label='bad')\n",
    "    plt.legend(loc='upper right')\n",
    "    \n",
    "    if axis==1:\n",
    "        plt.plot([0, w[0]], [0, w[1]],'r-')\n",
    "    \n",
    "    plt.show()"
   ]
  },
  {
   "cell_type": "code",
   "execution_count": 4,
   "metadata": {},
   "outputs": [],
   "source": [
    "def LDA(X0,X1):\n",
    "    # X0 8行2列，X1 9行2列\n",
    "    # mean0 1行2列\n",
    "    mean0=np.mean(X0,axis=0,keepdims=True)# 仍然保持为矩阵而非vector\n",
    "    mean1=np.mean(X1,axis=0,keepdims=True)\n",
    "\n",
    "    # 由于最终结果是2x2的矩阵，所以不能按照公式写法\n",
    "    Sw=(X0-mean0).T.dot(X0-mean0)+(X1-mean1).T.dot(X1-mean1)\n",
    "\n",
    "    Sw=np.array(Sw,dtype='float')# 为了求逆\n",
    "    omega=np.linalg.inv(Sw).dot((mean0-mean1).T)\n",
    "\n",
    "    return omega"
   ]
  },
  {
   "cell_type": "code",
   "execution_count": 8,
   "metadata": {},
   "outputs": [
    {
     "name": "stdout",
     "output_type": "stream",
     "text": [
      "[[0.14650981657728562]\n",
      " [0.738715567085003]]\n"
     ]
    },
    {
     "data": {
      "image/png": "[encoded data removed]",
      "text/plain": [
       "<Figure size 432x288 with 1 Axes>"
      ]
     },
     "metadata": {
      "needs_background": "light"
     },
     "output_type": "display_data"
    }
   ],
   "source": [
    "if __name__ == '__main__':\n",
    "    arr=ReadExcel('../../data/alpha_data.xlsx')\n",
    "    \n",
    "    pos=arr[arr[:,3]==1,1:]\n",
    "    neg=arr[arr[:,3]==0,1:]\n",
    "    omega=LDA(pos[:,:-1],neg[:,:-1])\n",
    "    print(omega)\n",
    "    plot(arr[:,:3],arr[:,3],omega,1)"
   ]
  },
  {
   "cell_type": "code",
   "execution_count": null,
   "metadata": {},
   "outputs": [],
   "source": []
  }
 ],
 "metadata": {
  "kernelspec": {
   "display_name": "Python 3",
   "language": "python",
   "name": "python3"
  },
  "language_info": {
   "codemirror_mode": {
    "name": "ipython",
    "version": 3
   },
   "file_extension": ".py",
   "mimetype": "text/x-python",
   "name": "python",
   "nbconvert_exporter": "python",
   "pygments_lexer": "ipython3",
   "version": "3.7.4"
  }
 },
 "nbformat": 4,
 "nbformat_minor": 2
}
