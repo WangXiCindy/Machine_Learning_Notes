{
 "cells": [
  {
   "cell_type": "code",
   "execution_count": null,
   "metadata": {},
   "outputs": [],
   "source": [
    "from sklearn import model_selection\n",
    "import matplotlib.pyplot as plt\n",
    "import numpy as np\n",
    "import pandas as pd"
   ]
  },
  {
   "cell_type": "code",
   "execution_count": null,
   "metadata": {},
   "outputs": [],
   "source": [
    "def ReadExcel(pathname):\n",
    "    df=pd.read_excel(pathname,sheet_name=\"Sheet1\")\n",
    "    arr=np.array(df)\n",
    "    rows=np.shape(arr)[0]\n",
    "    for i in range(rows):\n",
    "        if arr[i][4]=='Iris-setosa':\n",
    "            arr[i][4]=1\n",
    "        else:\n",
    "            arr[i][4]=0\n",
    "    dataArr=arr[:,0:2]# 只要两列数据\n",
    "    labelArr=arr[:,-1]# 仅最后一列\n",
    "    labelArr=labelArr.reshape(rows,1)\n",
    "    return dataArr,labelArr"
   ]
  },
  {
   "cell_type": "code",
   "execution_count": null,
   "metadata": {},
   "outputs": [],
   "source": [
    "def sigmoid(z):\n",
    "    z=np.mat(z,dtype=float)\n",
    "    # 否则'float' object has no attribute 'exp'\n",
    "    \n",
    "    return 1.0/(1+np.exp(-z))"
   ]
  },
  {
   "cell_type": "code",
   "execution_count": null,
   "metadata": {},
   "outputs": [],
   "source": [
    "#本部分为训练部分，使用误差反传\n",
    "def fit(X,y,eta=0.01,n_iters=5000,eps=1e-8):\n",
    "    # 注意是wx+b，要多一行\n",
    "    beta=np.ones((len(X),1))\n",
    "\n",
    "    # 按行连接两个矩阵，就是把两矩阵左右相加，要求行数相等。\n",
    "    data=np.c_[beta,X]\n",
    "    \n",
    "    weights=np.ones((3,1))\n",
    "    i_iters=0\n",
    "    \n",
    "    while i_iters<n_iters :\n",
    "        y_sig=sigmoid(data.dot(weights))\n",
    "        m=y_sig-y  #计算误差值\n",
    "        weights=weights-data.transpose().dot(m)*eta   #误差反传更新参数\n",
    "        i_iters+=1\n",
    "        \n",
    "    #打印最后的误差值\n",
    "    #print(np.abs(m).sum())\n",
    "    \n",
    "    return weights,data"
   ]
  },
  {
   "cell_type": "code",
   "execution_count": null,
   "metadata": {},
   "outputs": [],
   "source": [
    "def pre(test_X,w,par=1):\n",
    "    \n",
    "    m = test_X.shape[0]\n",
    "    \n",
    "    if par==1:\n",
    "        test_X=np.insert(test_X,0,[1])\n",
    "        test_X.reshape(len(test_X),1)\n",
    "        m = 1\n",
    "\n",
    "    else:\n",
    "        b=np.ones(np.shape(test_X)[0])\n",
    "        test_X=np.c_[b,test_X]\n",
    "             \n",
    "    #由sigmoid函数的性质，z = w * x , z大于0时，sigmoid(Z)>0.5 即预测为1，反之预测为0 \n",
    "    y_pre=np.dot(test_X,w)\n",
    "\n",
    "    for k in range(m):\n",
    "        if y_pre[k] > 0:\n",
    "            y_pre[k] = 1\n",
    "        else:\n",
    "            y_pre[k] = 0\n",
    "                       \n",
    "    return y_pre\n",
    "\n",
    "# calculate accuracy 计算准确率，一列是预测结果，一列是真实结果，结果相同则计数\n",
    "def accuracy(y_pre,y,par):\n",
    "    if par==1:\n",
    "        m=1\n",
    "    else:\n",
    "        m, n = y.shape\n",
    "    Matched = 0\n",
    "    for k in range(m):\n",
    "        if y_pre[k] == y[k]:\n",
    "            Matched += 1\n",
    "        else:\n",
    "            Matched += 0\n",
    "                       \n",
    "    return Matched / m"
   ]
  },
  {
   "cell_type": "code",
   "execution_count": null,
   "metadata": {},
   "outputs": [],
   "source": [
    "def only_one():\n",
    "    X,y=ReadExcel('./data.xlsx')\n",
    "    beta,data=fit(X,y)\n",
    "    plot_pre(data,y,beta)"
   ]
  },
  {
   "cell_type": "code",
   "execution_count": null,
   "metadata": {},
   "outputs": [],
   "source": [
    "#留一法\n",
    "def leave_one():\n",
    "    X,y=ReadExcel('./data.xlsx')\n",
    "    total=X.shape[0]\n",
    "    sum=0\n",
    "    for k in range(total):\n",
    "        test_index=k #测试集下标\n",
    "        \n",
    "        test_X=X[k]\n",
    "        test_y=y[k]       \n",
    "        \n",
    "        train_X=np.delete(X,test_index,axis=0)\n",
    "        train_y=np.delete(y,test_index,axis=0)\n",
    "        \n",
    "        weights,data=fit(train_X,train_y)\n",
    "        \n",
    "        y_pre=pre(test_X,weights,1)#代表使用留一法\n",
    "        sum+=accuracy(y_pre,test_y,1)\n",
    "        \n",
    "    print('''LeaveOneOut's Accuracy: ''', sum / total)"
   ]
  },
  {
   "cell_type": "code",
   "execution_count": null,
   "metadata": {},
   "outputs": [],
   "source": [
    "# 10折交叉验证\n",
    "def cross_val():\n",
    "    X,y=ReadExcel('./data.xlsx')\n",
    "    total=X.shape[0]\n",
    "    sum=0\n",
    "    num_split=int(total/10)\n",
    "    # 把样本分成10等分，依次抽取一个做测试集\n",
    "    for k in range(10):\n",
    "        test_index=range(k*num_split,(k+1)*num_split) #测试集下标\n",
    "        \n",
    "        test_X=X[test_index]\n",
    "        test_y=y[test_index]\n",
    "        \n",
    "        train_X=np.delete(X,test_index,axis=0)\n",
    "        train_y=np.delete(y,test_index,axis=0)\n",
    "        \n",
    "        weights,data=fit(train_X,train_y)\n",
    "        \n",
    "        y_pre=pre(test_X,weights,0)#代表使用非留一法\n",
    "        sum+=accuracy(y_pre,test_y,0)\n",
    "        \n",
    "    print('''10-foldCrossValidation's Accuracy: ''', sum /10)"
   ]
  },
  {
   "cell_type": "code",
   "execution_count": null,
   "metadata": {},
   "outputs": [],
   "source": [
    "if __name__ == '__main__':\n",
    "    cross_val()\n",
    "    leave_one()"
   ]
  },
  {
   "cell_type": "code",
   "execution_count": null,
   "metadata": {},
   "outputs": [],
   "source": []
  }
 ],
 "metadata": {
  "kernelspec": {
   "display_name": "Python 3",
   "language": "python",
   "name": "python3"
  },
  "language_info": {
   "codemirror_mode": {
    "name": "ipython",
    "version": 3
   },
   "file_extension": ".py",
   "mimetype": "text/x-python",
   "name": "python",
   "nbconvert_exporter": "python",
   "pygments_lexer": "ipython3",
   "version": "3.7.4"
  }
 },
 "nbformat": 4,
 "nbformat_minor": 2
}
