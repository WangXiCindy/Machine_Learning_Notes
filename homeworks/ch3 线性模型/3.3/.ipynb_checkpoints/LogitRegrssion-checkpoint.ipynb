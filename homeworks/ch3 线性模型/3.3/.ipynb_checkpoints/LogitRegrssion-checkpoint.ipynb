{
 "cells": [
  {
   "cell_type": "code",
   "execution_count": 23,
   "metadata": {},
   "outputs": [],
   "source": [
    "from sklearn import model_selection\n",
    "import numpy as np\n",
    "import pandas as pd\n",
    "import matplotlib.pyplot as plt"
   ]
  },
  {
   "cell_type": "code",
   "execution_count": 24,
   "metadata": {},
   "outputs": [],
   "source": [
    "def ReadExcel(pathname):\n",
    "    df=pd.read_excel(pathname,sheet_name=\"Sheet1\")\n",
    "    arr=np.array(df)\n",
    "    rows=np.shape(arr)[0]\n",
    "    for i in range(rows):\n",
    "        if arr[i][3]=='是':\n",
    "            arr[i][3]=1\n",
    "        else:\n",
    "            arr[i][3]=0\n",
    "    dataArr=arr[:,1:3]# 只要中间两列数据\n",
    "    labelArr=arr[:,-1]# 仅最后一列\n",
    "    labelArr=labelArr.reshape(17,1)\n",
    "    return dataArr,labelArr"
   ]
  },
  {
   "cell_type": "code",
   "execution_count": 25,
   "metadata": {},
   "outputs": [],
   "source": [
    "def plot(X,y):\n",
    "    dataset=np.c_[X,y]\n",
    "    f1 = plt.figure(1)\n",
    "    plt.title('watermelon_3a')\n",
    "    plt.xlabel('density')\n",
    "    plt.ylabel('ratio_sugar')\n",
    "    \n",
    "    y=dataset[:,-1]\n",
    "    plt.scatter(dataset[y==1,0], dataset[y==1,1], marker='o', color='g', s=100, label='good')\n",
    "    plt.scatter(dataset[y==0,0], dataset[y==0,1], marker='o', color='k', s=100, label='bad')\n",
    "    plt.legend(loc='upper right')"
   ]
  },
  {
   "cell_type": "code",
   "execution_count": 26,
   "metadata": {},
   "outputs": [],
   "source": [
    "def sigmoid(z):\n",
    "    z=np.mat(z,dtype=float)\n",
    "    # 否则'float' object has no attribute 'exp'\n",
    "    \n",
    "    return 1.0/(1+np.exp(-z))"
   ]
  },
  {
   "cell_type": "code",
   "execution_count": 27,
   "metadata": {},
   "outputs": [],
   "source": [
    "#看起来更接近二次函数，so添加二次项\n",
    "def fit_double(X,y,eta=0.01,n_iters=500000,eps=1e-8):\n",
    "    # 注意是wx+b，要多一行\n",
    "    b=np.ones((len(X),1))\n",
    "\n",
    "    # 按行连接两个矩阵，就是把两矩阵左右相加，要求行数相等。\n",
    "    data=np.c_[b,X]\n",
    "    \n",
    "    # 计算密度的平方\n",
    "    x2=np.square(data[:,[1]])\n",
    "    # 添加密度平方项\n",
    "    data=np.c_[data,x2]\n",
    "    \n",
    "    beta=np.ones((4,1))\n",
    "    i_iters=0\n",
    "    \n",
    "    while i_iters<n_iters :\n",
    "        y_sig=sigmoid(data.dot(beta))\n",
    "        m=y_sig-y  #计算误差值\n",
    "        beta=beta-data.transpose().dot(m)*eta   #误差反传更新参数\n",
    "        i_iters+=1\n",
    "        \n",
    "    #打印最后的误差值\n",
    "    print(np.abs(m).sum())\n",
    "    \n",
    "    return beta,data"
   ]
  },
  {
   "cell_type": "code",
   "execution_count": 28,
   "metadata": {},
   "outputs": [],
   "source": [
    "def plot_pre(X,y,w):\n",
    "    y=y.reshape(1,17)\n",
    "    plt.scatter(X[:, 1], X[:, 2], c=np.squeeze(y), cmap=plt.cm.Spectral)\n",
    "    \n",
    "    x_plt=np.linspace(0,1,100)\n",
    "    x_double=x_plt*x_plt\n",
    "    y_plt=-(w[1]*x_plt+w[0]+w[3]*x_double)/w[2]\n",
    "    y_plt=y_plt.reshape(100,1)\n",
    "    plt.ylim(0., 0.5)\n",
    "\n",
    "    plt.plot(x_plt,y_plt)\n",
    "\n",
    "    plt.xlabel('密度')\n",
    "    plt.ylabel('含糖率')\n",
    "    plt.show()"
   ]
  },
  {
   "cell_type": "code",
   "execution_count": null,
   "metadata": {},
   "outputs": [],
   "source": [
    "if __name__ == '__main__':\n",
    "    X,y=ReadExcel('../../data/alpha_data.xlsx')\n",
    "    beta,data=fit_double(X,y)\n",
    "    plot_pre(data,y,beta)"
   ]
  },
  {
   "cell_type": "code",
   "execution_count": null,
   "metadata": {},
   "outputs": [],
   "source": []
  }
 ],
 "metadata": {
  "kernelspec": {
   "display_name": "Python 3",
   "language": "python",
   "name": "python3"
  },
  "language_info": {
   "codemirror_mode": {
    "name": "ipython",
    "version": 3
   },
   "file_extension": ".py",
   "mimetype": "text/x-python",
   "name": "python",
   "nbconvert_exporter": "python",
   "pygments_lexer": "ipython3",
   "version": "3.7.4"
  }
 },
 "nbformat": 4,
 "nbformat_minor": 2
}
