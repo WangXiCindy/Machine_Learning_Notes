{
 "cells": [
  {
   "cell_type": "code",
   "execution_count": 23,
   "metadata": {},
   "outputs": [],
   "source": [
    "from sklearn import model_selection\n",
    "import numpy as np\n",
    "import pandas as pd\n",
    "import matplotlib.pyplot as plt\n",
    "from pylab import *\n",
    "%matplotlib inline \n",
    "%config InlineBackend.figure_format=\"retina\" "
   ]
  },
  {
   "cell_type": "code",
   "execution_count": 48,
   "metadata": {},
   "outputs": [],
   "source": [
    "class RBF():\n",
    "    # 权值及偏置初始化\n",
    "    # 注意是单层RBF\n",
    "    def __init__(self):\n",
    "        self.hideNum=4\n",
    "        self.epoch=10000\n",
    "    \n",
    "        self.w = np.random.rand(self.hideNum,1)\n",
    "        self.beta = np.random.rand(self.hideNum,1)\n",
    "        self.c=np.random.rand(self.hideNum,2)   #中心\n",
    "        \n",
    "    def forward(self,X):\n",
    "        self.X=X\n",
    "        self.dist=np.sum((X-self.c)**2,axis=1,keepdims=True)\n",
    "        # 高斯径向基\n",
    "        self.rho=np.exp(-self.beta*self.dist)# 注意径向基为激活函数，相当于BP的sigmoid\n",
    "        self.y=self.w.T.dot(self.rho)\n",
    "        # w第一位代表w_b,所以y第一位代表预测值\n",
    "        return self.y[0, 0]\n",
    "        \n",
    "        \n",
    "    # 梯度下降\n",
    "    # 通过y回退\n",
    "    def grad(self,y):\n",
    "        grad_y=self.y-y\n",
    "        grad_w=grad_y*self.rho\n",
    "        grad_rho=grad_y*self.w\n",
    "        grad_beta=-grad_rho*self.rho*self.dist\n",
    "        grad_c=grad_rho*self.rho*2*self.beta*(self.X-self.c)\n",
    "        self.grads = [grad_w, grad_beta, grad_c]\n",
    "        \n",
    "    # 参数更新\n",
    "    def update(self,eta=0.01):\n",
    "        self.w-=eta*self.grads[0]\n",
    "        self.beta-=eta*self.grads[1]\n",
    "        self.c-=eta*self.grads[2]\n",
    "    \n",
    "    def loss(self,X,y):\n",
    "        y_=self.forward(X)\n",
    "        loss=0.5*(y_-y)**2\n",
    "        return loss\n",
    "    \n",
    "    def train(self,X,y):\n",
    "        losses=[]\n",
    "        for e in range(self.epoch):\n",
    "            loss=0\n",
    "            for i in range(len(X)):\n",
    "                self.forward(X[i])\n",
    "                self.grad(y[i])\n",
    "                self.update()\n",
    "                loss+=self.loss(X[i],y[i])\n",
    "                \n",
    "            losses.append(loss)\n",
    "        return losses\n",
    "    "
   ]
  },
  {
   "cell_type": "code",
   "execution_count": 53,
   "metadata": {},
   "outputs": [
    {
     "data": {
      "image/png": "[encoded data removed]",
      "text/plain": [
       "<Figure size 432x288 with 1 Axes>"
      ]
     },
     "metadata": {
      "image/png": {
       "height": 246,
       "width": 361
      },
      "needs_background": "light"
     },
     "output_type": "display_data"
    },
    {
     "name": "stdout",
     "output_type": "stream",
     "text": [
      "X: [0, 0] y: [0] res: 0\n",
      "X: [0, 1] y: [1] res: 1\n",
      "X: [1, 0] y: [1] res: 1\n",
      "X: [1, 1] y: [0] res: 0\n"
     ]
    }
   ],
   "source": [
    "if __name__ == '__main__':\n",
    "    \n",
    "    train_X = [[0, 0], [0, 1], [1, 0], [1, 1]]  # 异或训练集\n",
    "    train_y = [[0], [1], [1], [0]]  # 异或输出\n",
    "   \n",
    "\n",
    "    #training\n",
    "    net = RBF()\n",
    "    losses = net.train(train_X, train_y)\n",
    "    plt.plot(range(len(losses)), losses, 'r-')\n",
    "    plt.show()\n",
    "\n",
    "    #predict\n",
    "    predicts = []\n",
    "    for i in range(4):\n",
    "        predict = net.forward(train_X[i])\n",
    "        if predict<1-predict:\n",
    "            predict=0\n",
    "        else:\n",
    "            predict=1\n",
    "        print(\"X:\",train_X[i],\"y:\",train_y[i],\"res:\",predict)"
   ]
  },
  {
   "cell_type": "code",
   "execution_count": null,
   "metadata": {},
   "outputs": [],
   "source": []
  }
 ],
 "metadata": {
  "kernelspec": {
   "display_name": "Python 3",
   "language": "python",
   "name": "python3"
  },
  "language_info": {
   "codemirror_mode": {
    "name": "ipython",
    "version": 3
   },
   "file_extension": ".py",
   "mimetype": "text/x-python",
   "name": "python",
   "nbconvert_exporter": "python",
   "pygments_lexer": "ipython3",
   "version": "3.7.4"
  }
 },
 "nbformat": 4,
 "nbformat_minor": 2
}
