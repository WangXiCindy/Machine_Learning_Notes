{
 "cells": [
  {
   "cell_type": "code",
   "execution_count": 214,
   "metadata": {},
   "outputs": [],
   "source": [
    "from sklearn import model_selection\n",
    "import numpy as np\n",
    "import pandas as pd\n",
    "import matplotlib.pyplot as plt\n",
    "from pylab import *\n",
    "%matplotlib inline \n",
    "%config InlineBackend.figure_format=\"retina\" "
   ]
  },
  {
   "cell_type": "code",
   "execution_count": 215,
   "metadata": {},
   "outputs": [],
   "source": [
    "# 数据处理    \n",
    "def ReadData(pathname):\n",
    "    data=pd.read_csv(pathname)\n",
    "    data.loc[data['好瓜']=='是', '好瓜'] = 1\n",
    "    data.loc[data['好瓜']=='否', '好瓜'] = 0\n",
    "    data = data.iloc[:,1:]\n",
    "    \n",
    "    attribute=data.columns[:-1]\n",
    "    label=data['好瓜']\n",
    "    \n",
    "    data=disperData(data,label)\n",
    "\n",
    "    arr=np.array(data)\n",
    "     \n",
    "    return arr,attribute\n",
    "\n",
    "# 集离散化\n",
    "def disperData(df,classLabel):\n",
    "    newData=df\n",
    "    feat=[[\"浅白\",\"青绿\",\"乌黑\"],[\"蜷缩\",\"稍蜷\",\"硬挺\"],[\"清脆\",\"浊响\",\"沉闷\"],[\"模糊\",\"稍糊\",\"清晰\"],[\"凹陷\",\"稍凹\",\"平坦\"],[\"硬滑\",\"软粘\"]]\n",
    "    \n",
    "    feature=pd.DataFrame(feat)\n",
    "    # 转置\n",
    "    feature = pd.DataFrame(feature.values.T)\n",
    "    feature.columns=[\"色泽\",\"根蒂\",\"敲声\",\"纹理\",\"脐部\",\"触感\"]\n",
    "    \n",
    "    for index in df.columns:\n",
    "        if index!=\"含糖率\" and index!=\"密度\" and index!=\"好瓜\":\n",
    "            for row in df.index:\n",
    "                # 获取所在行索引值\n",
    "                value=df.loc[row,index]\n",
    "                df.loc[row,index]=feature.loc[feature[index]==value].index+1\n",
    "    \n",
    "    return df"
   ]
  },
  {
   "cell_type": "code",
   "execution_count": 216,
   "metadata": {},
   "outputs": [],
   "source": [
    "def sigmoid(Z):\n",
    "    return 1.0/(1+np.exp(-Z))"
   ]
  },
  {
   "cell_type": "code",
   "execution_count": 241,
   "metadata": {},
   "outputs": [],
   "source": [
    "# 标准BP算法\n",
    "# hideNum为隐层神经元个数\n",
    "def BP(X,Y,hideNum=5,eta=0.01,epoch=10000):\n",
    "\n",
    "    # 权值及偏置初始化\n",
    "    V = np.random.rand(X.shape[1],hideNum)\n",
    "    V_b = np.random.rand(1,hideNum)\n",
    "    W = np.random.rand(hideNum,Y.shape[1])\n",
    "    W_b = np.random.rand(1,Y.shape[1])\n",
    "\n",
    "    trainNum=0\n",
    "    totloss=0\n",
    "    \n",
    "    while trainNum<epoch:\n",
    "        # 标准BP每次处理一个样本\n",
    "        for k in range(X.shape[0]):\n",
    "            B_h=sigmoid(X[k,:].dot(V)-V_b) # 输入层-隐层 注意是减去阈值\n",
    "            Y_=sigmoid(B_h.dot(W)-W_b)     # 隐层-输出层 注意是减去阈值\n",
    "            loss=sum((Y[k]-Y_)**2)*0.5      # 算均方误差\n",
    "            \n",
    "            \n",
    "            # 计算梯度并更新参数\n",
    "            g=Y_*(1-Y_)*(Y[k]-Y_)\n",
    "            e=B_h*(1-B_h)*g.dot(W.T)\n",
    "            \n",
    "            # 参数更新\n",
    "            W+=eta*B_h.T.dot(g)\n",
    "            W_b-=eta*g\n",
    "            V+=eta*X[k].reshape(1,X[k].size).T.dot(e)\n",
    "            V_b-=eta*e\n",
    "            trainNum+=1\n",
    "    \n",
    "    \n",
    "    print(\"标准BP\")\n",
    "    print(\"总训练次数：\",trainNum)\n",
    "    print(\"最终损失：\",loss)\n",
    "    #print(\"V：\",V)\n",
    "    #print(\"V_b：\",V_b)\n",
    "    #print(\"W：\",W)\n",
    "    #print(\"W_b：\",W_b)\n",
    "\n",
    "        "
   ]
  },
  {
   "cell_type": "code",
   "execution_count": 242,
   "metadata": {},
   "outputs": [],
   "source": [
    "# 累积BP算法\n",
    "def BPAcc(X,Y,hideNum=5,eta=0.01,epoch=10000):\n",
    "    \n",
    "    # 权值及偏置初始化\n",
    "    V = np.random.rand(X.shape[1],hideNum)\n",
    "    V_b = np.random.rand(1,hideNum)\n",
    "    W = np.random.rand(hideNum,Y.shape[1])\n",
    "    W_b = np.random.rand(1,Y.shape[1])\n",
    "    \n",
    "    trainNum=0\n",
    "    \n",
    "    while trainNum<epoch:\n",
    "        # 累积BP直接处理所有样本\n",
    "        B_h=sigmoid(X.dot(V)-V_b)   # 输入层-隐层 注意是减去阈值\n",
    "        Y_=sigmoid(B_h.dot(W)-W_b)  # 隐层-输出层 注意是减去阈值\n",
    "        loss=0.5*sum((Y-Y_)**2)/X.shape[0]     # 算均方误差\n",
    "        \n",
    "        # 计算梯度并更新参数\n",
    "        g=Y_*(1-Y_)*(Y-Y_)\n",
    "        e=B_h*(1-B_h)*g.dot(W.T)\n",
    "            \n",
    "        # 参数更新\n",
    "        W+=eta*B_h.T.dot(g)\n",
    "        W_b-=eta*g.sum(axis=0)\n",
    "        V+=eta*X.T.dot(e)\n",
    "        V_b-=eta*e.sum(axis=0)\n",
    "        trainNum+=1\n",
    "        \n",
    "    print(\"累积BP\")\n",
    "    print(\"总训练次数：\",trainNum)\n",
    "    print(\"最终损失：\",loss)\n",
    "    #print(\"V：\",V)\n",
    "    #print(\"V_b：\",V_b)\n",
    "    #print(\"W：\",W)\n",
    "    #print(\"W_b：\",W_b)\n"
   ]
  },
  {
   "cell_type": "code",
   "execution_count": 243,
   "metadata": {},
   "outputs": [
    {
     "name": "stdout",
     "output_type": "stream",
     "text": [
      "标准BP\n",
      "总训练次数： 10013\n",
      "最终损失： 0.10798687961100382\n",
      "累积BP\n",
      "总训练次数： 10000\n",
      "最终损失： 0.02651380560393347\n"
     ]
    }
   ],
   "source": [
    "if __name__ == '__main__':\n",
    "    data,attribute=ReadData('./watermelon_3.csv')\n",
    "    \n",
    "    X=data[:,:-1]\n",
    "    y=data[:,-1]\n",
    "    y=y.reshape(y.shape[0],1)\n",
    "    BP(X,y)\n",
    "    BPAcc(X,y)"
   ]
  },
  {
   "cell_type": "code",
   "execution_count": null,
   "metadata": {},
   "outputs": [],
   "source": []
  }
 ],
 "metadata": {
  "kernelspec": {
   "display_name": "Python 3",
   "language": "python",
   "name": "python3"
  },
  "language_info": {
   "codemirror_mode": {
    "name": "ipython",
    "version": 3
   },
   "file_extension": ".py",
   "mimetype": "text/x-python",
   "name": "python",
   "nbconvert_exporter": "python",
   "pygments_lexer": "ipython3",
   "version": "3.7.4"
  }
 },
 "nbformat": 4,
 "nbformat_minor": 2
}
