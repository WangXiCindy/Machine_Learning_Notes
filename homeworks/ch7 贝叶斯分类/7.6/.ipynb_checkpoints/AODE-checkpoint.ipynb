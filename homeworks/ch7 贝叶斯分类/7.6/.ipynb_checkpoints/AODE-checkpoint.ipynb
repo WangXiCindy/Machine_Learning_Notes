{
 "cells": [
  {
   "cell_type": "code",
   "execution_count": 1,
   "metadata": {},
   "outputs": [],
   "source": [
    "from sklearn import model_selection\n",
    "import numpy as np\n",
    "import pandas as pd\n",
    "import matplotlib.pyplot as plt\n",
    "from pylab import *\n",
    "import math\n",
    "%matplotlib inline \n",
    "%config InlineBackend.figure_format=\"retina\" "
   ]
  },
  {
   "cell_type": "code",
   "execution_count": 2,
   "metadata": {},
   "outputs": [],
   "source": [
    "# 数据处理\n",
    "continus={}\n",
    "def ReadData(pathname):\n",
    "    data=pd.read_csv(pathname)\n",
    "    data.loc[data['好瓜']=='是', '好瓜'] = 1\n",
    "    data.loc[data['好瓜']=='否', '好瓜'] = 0\n",
    "    \n",
    "    \n",
    "    data = data.iloc[:,1:]\n",
    "    \n",
    "    \n",
    "    attribute=data.columns\n",
    "    for i in attribute[:-1]:\n",
    "        m=0\n",
    "        if(i!=\"密度\" and i!=\"含糖率\"):\n",
    "            for j in data[i].unique():\n",
    "                data.loc[data[i]==j, i]=m\n",
    "                m+=1\n",
    "        else:\n",
    "            for j in data[i].unique():\n",
    "                continus[i,str(j)]=m\n",
    "                m+=1\n",
    "            \n",
    "    \n",
    "    label=data['好瓜'].unique()\n",
    "    \n",
    "    #print(data)\n",
    "    #print(continus)\n",
    "     \n",
    "    return data,attribute,label"
   ]
  },
  {
   "cell_type": "code",
   "execution_count": 3,
   "metadata": {},
   "outputs": [],
   "source": [
    "def calContProb_xi(label,key,Dcxi):\n",
    "    Dcxi_size=Dcxi.shape[0]\n",
    "    D_size=D.shape[0]\n",
    "    ni=D[key].nunique()\n",
    "    return (Dcxi_size+1)/(D_size+ni)\n",
    "    \n",
    "def calContProb_xij(key,value,Dcxi,D):\n",
    "    if(feature==\"密度\" or feature==\"含糖率\"):\n",
    "        return calContProbCon(key,value,Dcxi)\n",
    "    else:\n",
    "        return calContProbDis(key,value,Dcxi)\n",
    "        \n",
    "# 不同于拉普拉斯法，由于涉及x_j,所以两函数单纯计算某一xi下的值\n",
    "        \n",
    "def calContProbCon(key,value,Dcxi):\n",
    "    \n",
    "    mean=Dcxi[key].mean()\n",
    "    std==Dcxi[key].std()    \n",
    "    pos=continus[feature,str(j)]\n",
    "    prob=exp(-((value-mean)*(value-mean))/(2*std*std))/(sqrt(2*math.pi)*std)\n",
    "    prob=round(prob[i,pos],3)#保留三位小数           \n",
    "    \n",
    "    return prob\n",
    "\n",
    "    \n",
    "def calContProbDis(key,value,Dcxi):\n",
    "    # key为attribute值，value为j\n",
    "    Dcxi_size=Dcxi.shape[0]\n",
    "    Dcxi_xj_size=Dcxi.loc[Dcxi.loc[key]==value].shape[0]\n",
    "    nj=len(D_keys[key])\n",
    "    prob=(Dcxi_xj_size+1)/(Dcxi_size)+nj\n",
    "            \n",
    "    return prob"
   ]
  },
  {
   "cell_type": "code",
   "execution_count": 5,
   "metadata": {},
   "outputs": [],
   "source": [
    "def infer(model,label,attribute):\n",
    "    prob\n",
    "    for i in labels:\n",
    "        res[i] = 1\n",
    "        reslog[i]=0\n",
    "        for j in attribute:\n",
    "\n",
    "            res[i]*=model[j][i][0]\n",
    "            reslog[i] += log(model[j][i][0])\n",
    "            #print(j,i,model[j][i][0],res[i])\n",
    "\n",
    "    return res"
   ]
  },
  {
   "cell_type": "code",
   "execution_count": 6,
   "metadata": {},
   "outputs": [],
   "source": [
    "def judge(res):\n",
    "    if(res[1]>=res[0]):\n",
    "        print('判断为好瓜')\n",
    "    else:\n",
    "        print('判断为坏瓜')"
   ]
  },
  {
   "cell_type": "code",
   "execution_count": 7,
   "metadata": {},
   "outputs": [
    {
     "name": "stdout",
     "output_type": "stream",
     "text": [
      "判断为好瓜\n",
      "{1: 0.05401875968496445, 0: 0.0001459389501982665}\n"
     ]
    },
    {
     "name": "stderr",
     "output_type": "stream",
     "text": [
      "/Users/wangxu/opt/anaconda3/lib/python3.7/site-packages/ipykernel_launcher.py:38: UserWarning: Boolean Series key will be reindexed to match DataFrame index.\n"
     ]
    }
   ],
   "source": [
    "if __name__ == '__main__':\n",
    "    data,attribute,labels=ReadData('../../data/watermelon_3.csv')\n",
    "    result = trainBayes(data,attribute)\n",
    "    judge(result)\n",
    "    print(result)\n",
    "    "
   ]
  },
  {
   "cell_type": "code",
   "execution_count": null,
   "metadata": {},
   "outputs": [],
   "source": []
  }
 ],
 "metadata": {
  "kernelspec": {
   "display_name": "Python 3",
   "language": "python",
   "name": "python3"
  },
  "language_info": {
   "codemirror_mode": {
    "name": "ipython",
    "version": 3
   },
   "file_extension": ".py",
   "mimetype": "text/x-python",
   "name": "python",
   "nbconvert_exporter": "python",
   "pygments_lexer": "ipython3",
   "version": "3.7.4"
  }
 },
 "nbformat": 4,
 "nbformat_minor": 2
}
