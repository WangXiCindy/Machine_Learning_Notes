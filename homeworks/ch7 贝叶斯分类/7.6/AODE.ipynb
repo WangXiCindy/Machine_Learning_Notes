{
 "cells": [
  {
   "cell_type": "code",
   "execution_count": 366,
   "metadata": {},
   "outputs": [],
   "source": [
    "from sklearn import model_selection\n",
    "import numpy as np\n",
    "import pandas as pd\n",
    "import matplotlib.pyplot as plt\n",
    "from pylab import *\n",
    "import math\n",
    "%matplotlib inline \n",
    "%config InlineBackend.figure_format=\"retina\" "
   ]
  },
  {
   "cell_type": "code",
   "execution_count": 367,
   "metadata": {},
   "outputs": [],
   "source": [
    "# 数据处理\n",
    "continus={}\n",
    "def ReadData(pathname):\n",
    "    data=pd.read_csv(pathname)\n",
    "    data.loc[data['好瓜']=='是', '好瓜'] = 1\n",
    "    data.loc[data['好瓜']=='否', '好瓜'] = 0\n",
    "    \n",
    "    \n",
    "    data = data.iloc[:,1:]\n",
    "    \n",
    "    \n",
    "    attribute=data.columns\n",
    "    for i in attribute[:-1]:\n",
    "        m=0\n",
    "        if(i!=\"密度\" and i!=\"含糖率\"):\n",
    "            for j in data[i].unique():\n",
    "                data.loc[data[i]==j, i]=m\n",
    "                m+=1\n",
    "        else:\n",
    "            for j in data[i].unique():\n",
    "                continus[i,str(j)]=m\n",
    "                m+=1\n",
    "            \n",
    "    \n",
    "    label=data['好瓜'].unique()\n",
    "    \n",
    "    #print(data)\n",
    "    #print(continus)\n",
    "     \n",
    "    return data,attribute,label"
   ]
  },
  {
   "cell_type": "code",
   "execution_count": 424,
   "metadata": {
    "scrolled": true
   },
   "outputs": [],
   "source": [
    "def calContProb(data,feature,attribute):\n",
    "    if(feature!=\"密度\" and feature!=\"含糖率\"):\n",
    "        return calContProbDis(data,feature,attribute)\n",
    "    else:\n",
    "        return\n",
    "    \n",
    "def calContProbDis(data,feature,attribute):\n",
    "    \n",
    "    ni=len(data[feature].unique())\n",
    "    prob=np.zeros((len(data['好瓜'].unique())))\n",
    "    \n",
    "    for i in data['好瓜'].unique():\n",
    "        nc=len(data)+ni\n",
    "        prob[i]=(len(data[data['好瓜']==i][data[feature]==0])+1)/nc\n",
    "        #temp=1\n",
    "        for k in attribute:\n",
    "            if (k!=\"密度\" and k!=\"含糖率\"):\n",
    "                prob[i]*=calContProbDis_xij(data,i,0,feature,k)\n",
    "                #temp*=calContProbDis_xij(data,i,0,feature,k)\n",
    "            else:\n",
    "                break\n",
    "            #print(feature,0,k,0,temp)\n",
    "    return prob\n",
    "\n",
    "# 不同于拉普拉斯法，注意涉及xj,直接求乘积即可\n",
    "# 只需要针对xi=0和xj=0（也就是测试1计算即可）\n",
    "\n",
    "def calContProbDis_xij(data,c,xi,feature1,feature2):\n",
    "    \n",
    "    xj=0\n",
    "    nc=len(data[data['好瓜']==c][data[feature1]==xi])+len(data[feature2].unique())\n",
    "    prob=(len(data[data['好瓜']==c][data[feature1]==xi][data[feature2]==xj])+1)/nc\n",
    "    \n",
    "    #if(feature1==\"敲声\" and feature2==\"脐部\" and xi==0 and xj==0):\n",
    "    #    print(c,len(data[data['好瓜']==c][data[feature1]==xi][data[feature2]==xj]),len(data[data['好瓜']==c][data[feature1]==xi]),prob)\n",
    "    return prob"
   ]
  },
  {
   "cell_type": "code",
   "execution_count": 426,
   "metadata": {},
   "outputs": [],
   "source": [
    "def trainAODE(data,attribute):\n",
    "    prob={}\n",
    "    for i in attribute: \n",
    "        if i!='好瓜':\n",
    "            prob[i]=calContProb(data, i, attribute)\n",
    "    #print(prob)        \n",
    "    return prob\n"
   ]
  },
  {
   "cell_type": "code",
   "execution_count": 430,
   "metadata": {},
   "outputs": [],
   "source": [
    "def infer(model,label,attribute,labelData):\n",
    "    res = {}\n",
    "    for i in labels:\n",
    "        res[i] = 0\n",
    "        \n",
    "        for j in attribute:\n",
    "\n",
    "            res[i]+=model[j][i]\n",
    "            #print(j,i,model[j][i][0],res[i])\n",
    "\n",
    "    return res"
   ]
  },
  {
   "cell_type": "code",
   "execution_count": 431,
   "metadata": {},
   "outputs": [],
   "source": [
    "def judge(res):\n",
    "    if(res[1]>=res[0]):\n",
    "        print('判断为好瓜')\n",
    "    else:\n",
    "        print('判断为坏瓜')"
   ]
  },
  {
   "cell_type": "code",
   "execution_count": 433,
   "metadata": {},
   "outputs": [
    {
     "name": "stdout",
     "output_type": "stream",
     "text": [
      "判断为好瓜\n",
      "{1: 0.09695613977659626, 0: 0.003268716304243502}\n"
     ]
    },
    {
     "name": "stderr",
     "output_type": "stream",
     "text": [
      "/Users/wangxu/opt/anaconda3/lib/python3.7/site-packages/ipykernel_launcher.py:14: UserWarning: Boolean Series key will be reindexed to match DataFrame index.\n",
      "  \n",
      "/Users/wangxu/opt/anaconda3/lib/python3.7/site-packages/ipykernel_launcher.py:6: UserWarning: Boolean Series key will be reindexed to match DataFrame index.\n",
      "  \n",
      "/Users/wangxu/opt/anaconda3/lib/python3.7/site-packages/ipykernel_launcher.py:7: UserWarning: Boolean Series key will be reindexed to match DataFrame index.\n",
      "  import sys\n"
     ]
    }
   ],
   "source": [
    "\n",
    "if __name__ == '__main__':\n",
    "    data,attribute,labels=ReadData('../../data/watermelon_3.csv')\n",
    "    model = trainAODE(data,attribute)\n",
    "    #print(model)\n",
    "    result = infer(model, labels, attribute[:-3],data['好瓜'])\n",
    "    judge(result)\n",
    "    print(result)\n",
    "    "
   ]
  },
  {
   "cell_type": "code",
   "execution_count": null,
   "metadata": {},
   "outputs": [],
   "source": []
  }
 ],
 "metadata": {
  "kernelspec": {
   "display_name": "Python 3",
   "language": "python",
   "name": "python3"
  },
  "language_info": {
   "codemirror_mode": {
    "name": "ipython",
    "version": 3
   },
   "file_extension": ".py",
   "mimetype": "text/x-python",
   "name": "python",
   "nbconvert_exporter": "python",
   "pygments_lexer": "ipython3",
   "version": "3.7.4"
  }
 },
 "nbformat": 4,
 "nbformat_minor": 2
}
