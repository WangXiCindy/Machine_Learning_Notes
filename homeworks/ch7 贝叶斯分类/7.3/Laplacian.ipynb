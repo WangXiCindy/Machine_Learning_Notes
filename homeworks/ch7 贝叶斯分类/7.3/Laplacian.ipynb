{
 "cells": [
  {
   "cell_type": "code",
   "execution_count": 33,
   "metadata": {},
   "outputs": [],
   "source": [
    "from sklearn import model_selection\n",
    "import numpy as np\n",
    "import pandas as pd\n",
    "import matplotlib.pyplot as plt\n",
    "from pylab import *\n",
    "import math\n",
    "%matplotlib inline \n",
    "%config InlineBackend.figure_format=\"retina\" "
   ]
  },
  {
   "cell_type": "code",
   "execution_count": 34,
   "metadata": {},
   "outputs": [],
   "source": [
    "# 数据处理\n",
    "continus={}\n",
    "def ReadData(pathname):\n",
    "    data=pd.read_csv(pathname)\n",
    "    data.loc[data['好瓜']=='是', '好瓜'] = 1\n",
    "    data.loc[data['好瓜']=='否', '好瓜'] = 0\n",
    "    \n",
    "    \n",
    "    data = data.iloc[:,1:]\n",
    "    \n",
    "    \n",
    "    attribute=data.columns\n",
    "    for i in attribute[:-1]:\n",
    "        m=0\n",
    "        if(i!=\"密度\" and i!=\"含糖率\"):\n",
    "            for j in data[i].unique():\n",
    "                data.loc[data[i]==j, i]=m\n",
    "                m+=1\n",
    "        else:\n",
    "            for j in data[i].unique():\n",
    "                continus[i,str(j)]=m\n",
    "                m+=1\n",
    "            \n",
    "    \n",
    "    label=data['好瓜'].unique()\n",
    "    \n",
    "    #print(data)\n",
    "    #print(continus)\n",
    "     \n",
    "    return data,attribute,label"
   ]
  },
  {
   "cell_type": "code",
   "execution_count": 35,
   "metadata": {},
   "outputs": [],
   "source": [
    "def calContProb(data,feature):\n",
    "    if(feature==\"密度\" or feature==\"含糖率\"):\n",
    "        return calContProbCon(data,feature)\n",
    "    else:\n",
    "        return calContProbDis(data,feature)\n",
    "        \n",
    "        \n",
    "def calContProbCon(data,feature):\n",
    "    \n",
    "    prob=np.zeros((len(data['好瓜'].unique()),len(data[feature].unique())))\n",
    "    \n",
    "    for i in data['好瓜'].unique():\n",
    "        for j in data[feature].unique():\n",
    "            mean=data[data['好瓜']==i][feature].mean()\n",
    "            std=data[data['好瓜']==i][feature].std()\n",
    "            \n",
    "            pos=continus[feature,str(j)]\n",
    "            prob[i,pos]=exp(-((j-mean)*(j-mean))/(2*std*std))/(sqrt(2*math.pi)*std)\n",
    "            prob[i,pos]=round(prob[i,pos],3)#保留三位小数\n",
    "            \n",
    "            #print(j,prob[i,pos])\n",
    "            \n",
    "    \n",
    "    return prob\n",
    "    \n",
    "def calContProbDis(data,feature):\n",
    "    \n",
    "    ni=len(data[feature].unique())\n",
    "    prob=np.zeros((len(data['好瓜'].unique()),len(data[feature].unique())))\n",
    "    \n",
    "    for i in data['好瓜'].unique():\n",
    "        nc=len(data[data['好瓜']==i])+ni\n",
    "        for j in data[feature].unique():\n",
    "            #使用拉普拉斯修正\n",
    "            prob[i,j]=(len(data[data['好瓜']==i][data[feature]==j])+1)/nc\n",
    "            \n",
    "            #不使用拉普拉斯修正\n",
    "            #prob[i,j]=(len(data[data['好瓜']==i][data[feature]==j]))/(nc-ni)\n",
    "            \n",
    "            prob[i,j]=round(prob[i,j],3)#保留三位小数\n",
    "            \n",
    "    return prob"
   ]
  },
  {
   "cell_type": "code",
   "execution_count": 36,
   "metadata": {},
   "outputs": [],
   "source": [
    "def trainBayes(data,attribute):\n",
    "    prob={}\n",
    "    for i in attribute:\n",
    "        if i!='好瓜':\n",
    "            prob[i]=calContProb(pd.DataFrame(data, columns=['好瓜', i]), i)\n",
    "    return prob"
   ]
  },
  {
   "cell_type": "code",
   "execution_count": 46,
   "metadata": {},
   "outputs": [],
   "source": [
    "def infer(model,label,attribute,labelData):\n",
    "    res = {}\n",
    "    reslog={}\n",
    "    for i in labels:\n",
    "        #使用拉普拉斯修正\n",
    "        res[i] = (len(data[data['好瓜']==i])+1)/(len(data)+2) #N=2\n",
    "        reslog[i]=log((len(data[data['好瓜']==i])+1)/(len(data)+2))\n",
    "        \n",
    "        #不使用拉普拉斯修正\n",
    "        #res[i] = (len(data[data['好瓜']==i]))/(len(data)) #N=2\n",
    "        #reslog[i]=log((len(data[data['好瓜']==i]))/(len(data)))\n",
    "        \n",
    "        #if i==0:\n",
    "        #    print(res[i])\n",
    "        \n",
    "        for j in attribute:\n",
    "\n",
    "            res[i]*=model[j][i][0]\n",
    "            reslog[i] += log(model[j][i][0])\n",
    "            print(j,i,model[j][i][0],res[i])\n",
    "\n",
    "    return res"
   ]
  },
  {
   "cell_type": "code",
   "execution_count": 47,
   "metadata": {},
   "outputs": [],
   "source": [
    "def judge(res):\n",
    "    if(res[1]>=res[0]):\n",
    "        print('判断为好瓜')\n",
    "    else:\n",
    "        print('判断为坏瓜')"
   ]
  },
  {
   "cell_type": "code",
   "execution_count": 48,
   "metadata": {},
   "outputs": [
    {
     "name": "stdout",
     "output_type": "stream",
     "text": [
      "Index(['色泽', '根蒂', '敲声', '纹理', '脐部', '触感', '密度', '含糖率', '好瓜'], dtype='object')\n",
      "色泽 1 0.375 0.1764705882352941\n",
      "根蒂 1 0.625 0.11029411764705882\n",
      "敲声 1 0.75 0.08272058823529412\n",
      "纹理 1 0.875 0.07238051470588235\n",
      "脐部 1 0.625 0.04523782169117647\n",
      "触感 1 0.75 0.03392836626838235\n",
      "密度 1 1.959 0.06646566951976103\n",
      "含糖率 1 0.788 0.05237494758157169\n",
      "色泽 0 0.333 0.17629411764705882\n",
      "根蒂 0 0.333 0.05870594117647059\n",
      "敲声 0 0.444 0.026065437882352945\n",
      "纹理 0 0.222 0.005786527209882353\n",
      "脐部 0 0.222 0.0012846090405938826\n",
      "触感 0 0.667 0.0008568342300761197\n",
      "密度 0 1.203 0.0010307715787815721\n",
      "含糖率 0 0.066 6.803092419958376e-05\n",
      "判断为好瓜\n",
      "{1: 0.05237494758157169, 0: 6.803092419958376e-05}\n"
     ]
    },
    {
     "name": "stderr",
     "output_type": "stream",
     "text": [
      "/Users/wangxu/opt/anaconda3/lib/python3.7/site-packages/ipykernel_launcher.py:38: UserWarning: Boolean Series key will be reindexed to match DataFrame index.\n"
     ]
    }
   ],
   "source": [
    "if __name__ == '__main__':\n",
    "    data,attribute,labels=ReadData('../../data/watermelon_3.csv')\n",
    "    print(attribute)\n",
    "    model = trainBayes(data,attribute)\n",
    "    #print(model)\n",
    "    result = infer(model, labels, attribute[:-1],data['好瓜'])\n",
    "    judge(result)\n",
    "    print(result)\n",
    "    "
   ]
  },
  {
   "cell_type": "code",
   "execution_count": null,
   "metadata": {},
   "outputs": [],
   "source": []
  }
 ],
 "metadata": {
  "kernelspec": {
   "display_name": "Python 3",
   "language": "python",
   "name": "python3"
  },
  "language_info": {
   "codemirror_mode": {
    "name": "ipython",
    "version": 3
   },
   "file_extension": ".py",
   "mimetype": "text/x-python",
   "name": "python",
   "nbconvert_exporter": "python",
   "pygments_lexer": "ipython3",
   "version": "3.7.4"
  }
 },
 "nbformat": 4,
 "nbformat_minor": 2
}
