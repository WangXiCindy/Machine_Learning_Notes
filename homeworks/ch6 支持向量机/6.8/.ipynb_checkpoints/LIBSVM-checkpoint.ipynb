{
 "cells": [
  {
   "cell_type": "code",
   "execution_count": 58,
   "metadata": {},
   "outputs": [],
   "source": [
    "from sklearn.model_selection import train_test_split\n",
    "import numpy as np\n",
    "import pandas as pd\n",
    "from libsvm.svm import *\n",
    "from libsvm.svmutil import *"
   ]
  },
  {
   "cell_type": "code",
   "execution_count": 59,
   "metadata": {},
   "outputs": [],
   "source": [
    "def ReadExcel(pathname):\n",
    "    df=pd.read_excel(pathname,sheet_name=\"Sheet1\")\n",
    "    arr=np.array(df)\n",
    "    rows=np.shape(arr)[0]\n",
    "    dataArr=arr[:,1].reshape((17,1))# 只要密度\n",
    "    labelArr=arr[:,2]# 仅含糖率\n",
    "    return dataArr,labelArr"
   ]
  },
  {
   "cell_type": "code",
   "execution_count": 60,
   "metadata": {},
   "outputs": [],
   "source": [
    "def SVR():\n",
    "    X,y=ReadExcel('./alpha_data.xlsx')\n",
    "    X_train,X_test,y_train,y_test=train_test_split(X,y,test_size=0.3, random_state=0)\n",
    "    y_train=y_train.tolist()\n",
    "    # t=2高斯核，t=0线性核\n",
    "    # s=3 epsilon-SVR\n",
    "    model=svm_train(y_train,X_train,'-t 0 -s 3')\n",
    "    p_label,p_acc,p_val=svm_predict(y_test,X_test,model)\n",
    "    print(p_acc)"
   ]
  },
  {
   "cell_type": "code",
   "execution_count": 61,
   "metadata": {},
   "outputs": [
    {
     "name": "stdout",
     "output_type": "stream",
     "text": [
      "Mean squared error = 0.00833156 (regression)\n",
      "Squared correlation coefficient = 0.00832679 (regression)\n",
      "(0.0, 0.008331563045225086, 0.008326794756839036)\n"
     ]
    }
   ],
   "source": [
    "if __name__ == '__main__':\n",
    "    SVR()"
   ]
  },
  {
   "cell_type": "code",
   "execution_count": null,
   "metadata": {},
   "outputs": [],
   "source": []
  }
 ],
 "metadata": {
  "kernelspec": {
   "display_name": "Python 3",
   "language": "python",
   "name": "python3"
  },
  "language_info": {
   "codemirror_mode": {
    "name": "ipython",
    "version": 3
   },
   "file_extension": ".py",
   "mimetype": "text/x-python",
   "name": "python",
   "nbconvert_exporter": "python",
   "pygments_lexer": "ipython3",
   "version": "3.7.4"
  }
 },
 "nbformat": 4,
 "nbformat_minor": 2
}
