{
 "cells": [
  {
   "cell_type": "code",
   "execution_count": 1,
   "metadata": {},
   "outputs": [],
   "source": [
    "from sklearn.model_selection import train_test_split\n",
    "import numpy as np\n",
    "import pandas as pd\n",
    "from libsvm.svm import *\n",
    "from libsvm.svmutil import *"
   ]
  },
  {
   "cell_type": "code",
   "execution_count": 2,
   "metadata": {},
   "outputs": [],
   "source": [
    "def ReadExcel(pathname):\n",
    "    df=pd.read_excel(pathname,sheet_name=\"Sheet1\")\n",
    "    arr=np.array(df)\n",
    "    rows=np.shape(arr)[0]\n",
    "    for i in range(rows):\n",
    "        if arr[i][3]=='是':\n",
    "            arr[i][3]=1\n",
    "        else:\n",
    "            arr[i][3]=0\n",
    "    dataArr=arr[:,1:3]# 只要中间两列数据\n",
    "    labelArr=arr[:,-1]# 仅最后一列\n",
    "    labelArr=labelArr.reshape(17,1)\n",
    "    return dataArr,labelArr"
   ]
  },
  {
   "cell_type": "code",
   "execution_count": 3,
   "metadata": {},
   "outputs": [],
   "source": [
    "def SVM():\n",
    "    X,y=ReadExcel('../../data/alpha_data.xlsx')\n",
    "    X_train,X_test,y_train,y_test=train_test_split(X,y,test_size=0.3, random_state=0)\n",
    "    y_train=y_train.T.tolist()[0]\n",
    "    y_test=y_test.T.tolist()[0]\n",
    "    prob=svm_problem(y_train,X_train)\n",
    "    # t=2高斯核，t=0线性核\n",
    "    param=svm_parameter('-t 0 -c 35')\n",
    "    model=svm_train(prob,param)\n",
    "    p_label,p_acc,p_val=svm_predict(y_test,X_test,model)\n",
    "    print(p_acc)\n",
    "    return p_label"
   ]
  },
  {
   "cell_type": "code",
   "execution_count": 4,
   "metadata": {},
   "outputs": [
    {
     "name": "stdout",
     "output_type": "stream",
     "text": [
      "Accuracy = 66.6667% (4/6) (classification)\n",
      "(66.66666666666666, 0.3333333333333333, 0.1111111111111111)\n"
     ]
    }
   ],
   "source": [
    "if __name__ == '__main__':\n",
    "    SVM()\n",
    "    "
   ]
  },
  {
   "cell_type": "code",
   "execution_count": null,
   "metadata": {},
   "outputs": [],
   "source": []
  }
 ],
 "metadata": {
  "kernelspec": {
   "display_name": "Python 3",
   "language": "python",
   "name": "python3"
  },
  "language_info": {
   "codemirror_mode": {
    "name": "ipython",
    "version": 3
   },
   "file_extension": ".py",
   "mimetype": "text/x-python",
   "name": "python",
   "nbconvert_exporter": "python",
   "pygments_lexer": "ipython3",
   "version": "3.7.4"
  }
 },
 "nbformat": 4,
 "nbformat_minor": 2
}
