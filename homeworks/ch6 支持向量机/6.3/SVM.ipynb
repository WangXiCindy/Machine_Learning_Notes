{
 "cells": [
  {
   "cell_type": "code",
   "execution_count": 4,
   "metadata": {},
   "outputs": [],
   "source": [
    "from sklearn.svm import SVC\n",
    "from sklearn.model_selection import train_test_split\n",
    "from sklearn.neural_network import MLPClassifier\n",
    "from sklearn.tree import DecisionTreeClassifier\n",
    "from sklearn.datasets import load_iris\n",
    "import matplotlib.pyplot as plt\n",
    "import numpy as np\n",
    "import pandas as pd"
   ]
  },
  {
   "cell_type": "code",
   "execution_count": 15,
   "metadata": {},
   "outputs": [],
   "source": [
    "# 老鸢尾花了\n",
    "Iris=load_iris()\n",
    "X_train,X_test,y_train,y_test=train_test_split(Iris.data,Iris.target,stratify=Iris.target,random_state=0)"
   ]
  },
  {
   "cell_type": "code",
   "execution_count": 16,
   "metadata": {},
   "outputs": [
    {
     "name": "stdout",
     "output_type": "stream",
     "text": [
      "The accuracy of svc on training set under linear 0.9910714285714286\n",
      "The accuracy of svc on test set under linear 1.0\n",
      "The accuracy of svc on training set under rbf 0.9642857142857143\n",
      "The accuracy of svc on test set under rbf 1.0\n"
     ]
    }
   ],
   "source": [
    "# SVC\n",
    "#线性核，核函数系数，软间隔分类器\n",
    "svc=SVC(kernel='linear',gamma=\"auto\",C=1)\n",
    "svc.fit(X_train,y_train)\n",
    "print(\"The accuracy of svc on training set under linear\",format(svc.score(X_train,y_train)))\n",
    "print(\"The accuracy of svc on test set under linear\",format(svc.score(X_test,y_test)))\n",
    "\n",
    "#高斯核\n",
    "svc=SVC(kernel='rbf',gamma=\"auto\",C=1)\n",
    "svc.fit(X_train,y_train)\n",
    "print(\"The accuracy of svc on training set under rbf\",format(svc.score(X_train,y_train)))\n",
    "print(\"The accuracy of svc on test set under rbf\",format(svc.score(X_test,y_test)))"
   ]
  },
  {
   "cell_type": "code",
   "execution_count": 17,
   "metadata": {},
   "outputs": [
    {
     "name": "stdout",
     "output_type": "stream",
     "text": [
      "The accuracy of BP neural network on training set 0.9732142857142857\n",
      "The accuracy of BP neural network on test set 1.0\n"
     ]
    }
   ],
   "source": [
    "# BP神经网络\n",
    "mlp=MLPClassifier(random_state=0,max_iter=1000,alpha=1).fit(X_train,y_train)\n",
    "print(\"The accuracy of BP neural network on training set\",format(mlp.score(X_train,y_train)))\n",
    "print(\"The accuracy of BP neural network on test set\",format(mlp.score(X_test,y_test)))"
   ]
  },
  {
   "cell_type": "code",
   "execution_count": 18,
   "metadata": {},
   "outputs": [
    {
     "name": "stdout",
     "output_type": "stream",
     "text": [
      "The accuracy of C4.5 tree on training set 1.0\n",
      "The accuracy of C4.5 tree on test set 0.9736842105263158\n"
     ]
    }
   ],
   "source": [
    "# C4.5决策树\n",
    "tree=DecisionTreeClassifier(random_state=0,max_depth=4).fit(X_train,y_train)\n",
    "print(\"The accuracy of C4.5 tree on training set\",format(tree.score(X_train,y_train)))\n",
    "print(\"The accuracy of C4.5 tree on test set\",format(tree.score(X_test,y_test)))"
   ]
  },
  {
   "cell_type": "code",
   "execution_count": null,
   "metadata": {},
   "outputs": [],
   "source": []
  }
 ],
 "metadata": {
  "kernelspec": {
   "display_name": "Python 3",
   "language": "python",
   "name": "python3"
  },
  "language_info": {
   "codemirror_mode": {
    "name": "ipython",
    "version": 3
   },
   "file_extension": ".py",
   "mimetype": "text/x-python",
   "name": "python",
   "nbconvert_exporter": "python",
   "pygments_lexer": "ipython3",
   "version": "3.7.4"
  }
 },
 "nbformat": 4,
 "nbformat_minor": 2
}
